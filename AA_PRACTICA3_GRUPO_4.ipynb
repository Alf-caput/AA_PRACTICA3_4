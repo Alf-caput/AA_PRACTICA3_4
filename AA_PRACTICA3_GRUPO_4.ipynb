{
  "cells": [
    {
      "cell_type": "markdown",
      "metadata": {
        "id": "v_lsFp3RXRzW"
      },
      "source": [
        "### Grupo 4\n",
        "### Miguel Egido Morales, Ana Robledano Abasolo, Alfredo Robledano Abasolo\n",
        "# P3 AA Redes de Neuronas Convolucionales"
      ]
    },
    {
      "cell_type": "code",
      "source": [
        "%tensorflow_version 2.x\n",
        "import tensorflow as tf\n",
        "from tensorflow import keras\n",
        "\n",
        "import numpy as np\n",
        "import matplotlib.pyplot as plt\n",
        "print(tf.__version__)\n",
        "(x_train, y_train), (x_test, y_test) = tf.keras.datasets.cifar100.load_data()\n",
        "x_train, x_test = x_train / 255.0, x_test / 255.0\n"
      ],
      "metadata": {
        "colab": {
          "base_uri": "https://localhost:8080/"
        },
        "id": "Xn_YPE8uXT9C",
        "outputId": "c1c53826-7240-4eec-a5ec-6e135de87770"
      },
      "execution_count": 1,
      "outputs": [
        {
          "output_type": "stream",
          "name": "stdout",
          "text": [
            "Colab only includes TensorFlow 2.x; %tensorflow_version has no effect.\n",
            "2.14.0\n",
            "Downloading data from https://www.cs.toronto.edu/~kriz/cifar-100-python.tar.gz\n",
            "169001437/169001437 [==============================] - 4s 0us/step\n"
          ]
        }
      ]
    },
    {
      "cell_type": "code",
      "source": [
        "y_train"
      ],
      "metadata": {
        "colab": {
          "base_uri": "https://localhost:8080/"
        },
        "id": "f5J5wX8xXXbY",
        "outputId": "121e1952-f1de-4d8b-ff98-9d348fd73e12"
      },
      "execution_count": 2,
      "outputs": [
        {
          "output_type": "execute_result",
          "data": {
            "text/plain": [
              "array([[19],\n",
              "       [29],\n",
              "       [ 0],\n",
              "       ...,\n",
              "       [ 3],\n",
              "       [ 7],\n",
              "       [73]])"
            ]
          },
          "metadata": {},
          "execution_count": 2
        }
      ]
    },
    {
      "cell_type": "code",
      "source": [
        "len(x_train)"
      ],
      "metadata": {
        "colab": {
          "base_uri": "https://localhost:8080/"
        },
        "id": "MRcmaJZNXZcE",
        "outputId": "ee836614-1ff3-4c11-8934-f367e8a25b1a"
      },
      "execution_count": 3,
      "outputs": [
        {
          "output_type": "execute_result",
          "data": {
            "text/plain": [
              "50000"
            ]
          },
          "metadata": {},
          "execution_count": 3
        }
      ]
    },
    {
      "cell_type": "code",
      "source": [
        "from tensorflow.keras import Sequential\n",
        "from tensorflow.keras.layers import Conv2D, MaxPooling2D, Dense, Flatten, Dropout, BatchNormalization\n",
        "from tensorflow.keras.optimizers import Adam\n",
        "from tensorflow.keras.regularizers import L2\n",
        "\n",
        "model1 = Sequential()\n",
        "#capa1:\n",
        "model1.add(Conv2D(32, (3, 3), activation='relu',  padding='same',input_shape=(32, 32, 3)))\n",
        "model1.add(Conv2D(32, (3, 3), activation='relu',padding='same'))\n",
        "\n",
        "model1.add(Flatten())\n",
        "model1.add(Dense(250, activation='relu'))\n",
        "model1.add(Dense(100, activation='softmax'))\n",
        "\n",
        "model1.compile(loss='sparse_categorical_crossentropy',\n",
        "              optimizer=Adam(),\n",
        "              metrics=['accuracy'])\n",
        "model1.summary()"
      ],
      "metadata": {
        "colab": {
          "base_uri": "https://localhost:8080/"
        },
        "id": "oJlPafz3Xapo",
        "outputId": "b6a53fc2-26cf-4d33-d14a-f94b00176d68"
      },
      "execution_count": 4,
      "outputs": [
        {
          "output_type": "stream",
          "name": "stdout",
          "text": [
            "Model: \"sequential\"\n",
            "_________________________________________________________________\n",
            " Layer (type)                Output Shape              Param #   \n",
            "=================================================================\n",
            " conv2d (Conv2D)             (None, 32, 32, 32)        896       \n",
            "                                                                 \n",
            " conv2d_1 (Conv2D)           (None, 32, 32, 32)        9248      \n",
            "                                                                 \n",
            " flatten (Flatten)           (None, 32768)             0         \n",
            "                                                                 \n",
            " dense (Dense)               (None, 250)               8192250   \n",
            "                                                                 \n",
            " dense_1 (Dense)             (None, 100)               25100     \n",
            "                                                                 \n",
            "=================================================================\n",
            "Total params: 8227494 (31.39 MB)\n",
            "Trainable params: 8227494 (31.39 MB)\n",
            "Non-trainable params: 0 (0.00 Byte)\n",
            "_________________________________________________________________\n"
          ]
        }
      ]
    },
    {
      "cell_type": "code",
      "source": [
        "history1 = model1.fit(x_train, y_train, epochs=30, batch_size=64, validation_data=(x_test, y_test), verbose=1)"
      ],
      "metadata": {
        "colab": {
          "base_uri": "https://localhost:8080/"
        },
        "id": "3MGdzPV1XerZ",
        "outputId": "0c087776-e62a-480a-ca12-6fb8e7ffc7c7"
      },
      "execution_count": 5,
      "outputs": [
        {
          "output_type": "stream",
          "name": "stdout",
          "text": [
            "Epoch 1/30\n",
            "782/782 [==============================] - 17s 8ms/step - loss: 3.7899 - accuracy: 0.1317 - val_loss: 3.2728 - val_accuracy: 0.2172\n",
            "Epoch 2/30\n",
            "782/782 [==============================] - 6s 8ms/step - loss: 2.9797 - accuracy: 0.2715 - val_loss: 2.9374 - val_accuracy: 0.2777\n",
            "Epoch 3/30\n",
            "782/782 [==============================] - 6s 7ms/step - loss: 2.4862 - accuracy: 0.3690 - val_loss: 2.8433 - val_accuracy: 0.3083\n",
            "Epoch 4/30\n",
            "782/782 [==============================] - 6s 8ms/step - loss: 2.0259 - accuracy: 0.4688 - val_loss: 2.9022 - val_accuracy: 0.3113\n",
            "Epoch 5/30\n",
            "782/782 [==============================] - 6s 8ms/step - loss: 1.5855 - accuracy: 0.5727 - val_loss: 3.1301 - val_accuracy: 0.3031\n",
            "Epoch 6/30\n",
            "782/782 [==============================] - 6s 8ms/step - loss: 1.1778 - accuracy: 0.6736 - val_loss: 3.5301 - val_accuracy: 0.2891\n",
            "Epoch 7/30\n",
            "782/782 [==============================] - 7s 8ms/step - loss: 0.8368 - accuracy: 0.7658 - val_loss: 4.1162 - val_accuracy: 0.2881\n",
            "Epoch 8/30\n",
            "782/782 [==============================] - 6s 8ms/step - loss: 0.5711 - accuracy: 0.8403 - val_loss: 4.8334 - val_accuracy: 0.2668\n",
            "Epoch 9/30\n",
            "782/782 [==============================] - 6s 8ms/step - loss: 0.3819 - accuracy: 0.8902 - val_loss: 5.4155 - val_accuracy: 0.2766\n",
            "Epoch 10/30\n",
            "782/782 [==============================] - 6s 8ms/step - loss: 0.2769 - accuracy: 0.9185 - val_loss: 6.2680 - val_accuracy: 0.2667\n",
            "Epoch 11/30\n",
            "782/782 [==============================] - 6s 8ms/step - loss: 0.2094 - accuracy: 0.9391 - val_loss: 6.7648 - val_accuracy: 0.2576\n",
            "Epoch 12/30\n",
            "782/782 [==============================] - 6s 8ms/step - loss: 0.1814 - accuracy: 0.9449 - val_loss: 7.6579 - val_accuracy: 0.2566\n",
            "Epoch 13/30\n",
            "782/782 [==============================] - 6s 8ms/step - loss: 0.1575 - accuracy: 0.9534 - val_loss: 8.0747 - val_accuracy: 0.2633\n",
            "Epoch 14/30\n",
            "782/782 [==============================] - 6s 8ms/step - loss: 0.1431 - accuracy: 0.9561 - val_loss: 8.2979 - val_accuracy: 0.2591\n",
            "Epoch 15/30\n",
            "782/782 [==============================] - 6s 8ms/step - loss: 0.1228 - accuracy: 0.9622 - val_loss: 8.8026 - val_accuracy: 0.2605\n",
            "Epoch 16/30\n",
            "782/782 [==============================] - 6s 8ms/step - loss: 0.1126 - accuracy: 0.9666 - val_loss: 9.0663 - val_accuracy: 0.2594\n",
            "Epoch 17/30\n",
            "782/782 [==============================] - 6s 8ms/step - loss: 0.1129 - accuracy: 0.9655 - val_loss: 9.4916 - val_accuracy: 0.2550\n",
            "Epoch 18/30\n",
            "782/782 [==============================] - 7s 8ms/step - loss: 0.1008 - accuracy: 0.9701 - val_loss: 9.7398 - val_accuracy: 0.2484\n",
            "Epoch 19/30\n",
            "782/782 [==============================] - 6s 8ms/step - loss: 0.0973 - accuracy: 0.9709 - val_loss: 9.8420 - val_accuracy: 0.2547\n",
            "Epoch 20/30\n",
            "782/782 [==============================] - 6s 8ms/step - loss: 0.1046 - accuracy: 0.9681 - val_loss: 9.9947 - val_accuracy: 0.2566\n",
            "Epoch 21/30\n",
            "782/782 [==============================] - 6s 7ms/step - loss: 0.0889 - accuracy: 0.9733 - val_loss: 10.4961 - val_accuracy: 0.2462\n",
            "Epoch 22/30\n",
            "782/782 [==============================] - 6s 8ms/step - loss: 0.0987 - accuracy: 0.9709 - val_loss: 10.4375 - val_accuracy: 0.2507\n",
            "Epoch 23/30\n",
            "782/782 [==============================] - 6s 8ms/step - loss: 0.0745 - accuracy: 0.9767 - val_loss: 10.8262 - val_accuracy: 0.2428\n",
            "Epoch 24/30\n",
            "782/782 [==============================] - 6s 8ms/step - loss: 0.0779 - accuracy: 0.9760 - val_loss: 11.8628 - val_accuracy: 0.2505\n",
            "Epoch 25/30\n",
            "782/782 [==============================] - 6s 8ms/step - loss: 0.0867 - accuracy: 0.9736 - val_loss: 11.5747 - val_accuracy: 0.2454\n",
            "Epoch 26/30\n",
            "782/782 [==============================] - 6s 7ms/step - loss: 0.0728 - accuracy: 0.9788 - val_loss: 11.5904 - val_accuracy: 0.2437\n",
            "Epoch 27/30\n",
            "782/782 [==============================] - 6s 8ms/step - loss: 0.0732 - accuracy: 0.9778 - val_loss: 11.8853 - val_accuracy: 0.2377\n",
            "Epoch 28/30\n",
            "782/782 [==============================] - 6s 8ms/step - loss: 0.0790 - accuracy: 0.9759 - val_loss: 11.5290 - val_accuracy: 0.2522\n",
            "Epoch 29/30\n",
            "782/782 [==============================] - 6s 8ms/step - loss: 0.0687 - accuracy: 0.9795 - val_loss: 12.0863 - val_accuracy: 0.2454\n",
            "Epoch 30/30\n",
            "782/782 [==============================] - 6s 8ms/step - loss: 0.0671 - accuracy: 0.9802 - val_loss: 12.5049 - val_accuracy: 0.2434\n"
          ]
        }
      ]
    },
    {
      "cell_type": "code",
      "source": [
        "import matplotlib.pyplot as plt\n",
        "\n",
        "plt.plot(history1.history['accuracy'])\n",
        "plt.plot(history1.history['val_accuracy'])  # Agrega esta línea\n",
        "plt.title('Model Accuracy')\n",
        "plt.ylabel('Accuracy')\n",
        "plt.xlabel('Epoch')\n",
        "plt.show()"
      ],
      "metadata": {
        "colab": {
          "base_uri": "https://localhost:8080/",
          "height": 472
        },
        "id": "yEZ9FzcaXhMx",
        "outputId": "7e0dab76-da12-4a81-c1c8-5307b19ab260"
      },
      "execution_count": 6,
      "outputs": [
        {
          "output_type": "display_data",
          "data": {
            "text/plain": [
              "<Figure size 640x480 with 1 Axes>"
            ],
            "image/png": "[encoded data removed]"
          },
          "metadata": {}
        }
      ]
    },
    {
      "cell_type": "code",
      "source": [
        "\n",
        "model2 = Sequential()\n",
        "#capa1:\n",
        "model2.add(Conv2D(32, (3, 3), activation='relu',  padding='same',input_shape=(32, 32, 3)))\n",
        "model2.add(Conv2D(32, (3, 3), padding='same' ,activation='relu'))\n",
        "\n",
        "model2.add(MaxPooling2D((2, 2)))\n",
        "model2.add(Conv2D(64, (3, 3), padding='same' ,activation='relu'))\n",
        "model2.add(Conv2D(64, (3, 3), padding='same' ,activation='relu'))\n",
        "\n",
        "model2.add(Flatten())\n",
        "model2.add(Dense(250, activation='relu'))\n",
        "model2.add(Dense(100, activation='softmax'))\n",
        "\n",
        "model2.compile(loss='sparse_categorical_crossentropy',\n",
        "              optimizer=Adam(),\n",
        "              metrics=['accuracy'])\n",
        "model2.summary()"
      ],
      "metadata": {
        "colab": {
          "base_uri": "https://localhost:8080/"
        },
        "id": "3xL-5ynLXjcz",
        "outputId": "078b50fe-9757-4b34-9008-d5bf2b464b26"
      },
      "execution_count": 7,
      "outputs": [
        {
          "output_type": "stream",
          "name": "stdout",
          "text": [
            "Model: \"sequential_1\"\n",
            "_________________________________________________________________\n",
            " Layer (type)                Output Shape              Param #   \n",
            "=================================================================\n",
            " conv2d_2 (Conv2D)           (None, 32, 32, 32)        896       \n",
            "                                                                 \n",
            " conv2d_3 (Conv2D)           (None, 32, 32, 32)        9248      \n",
            "                                                                 \n",
            " max_pooling2d (MaxPooling2  (None, 16, 16, 32)        0         \n",
            " D)                                                              \n",
            "                                                                 \n",
            " conv2d_4 (Conv2D)           (None, 16, 16, 64)        18496     \n",
            "                                                                 \n",
            " conv2d_5 (Conv2D)           (None, 16, 16, 64)        36928     \n",
            "                                                                 \n",
            " flatten_1 (Flatten)         (None, 16384)             0         \n",
            "                                                                 \n",
            " dense_2 (Dense)             (None, 250)               4096250   \n",
            "                                                                 \n",
            " dense_3 (Dense)             (None, 100)               25100     \n",
            "                                                                 \n",
            "=================================================================\n",
            "Total params: 4186918 (15.97 MB)\n",
            "Trainable params: 4186918 (15.97 MB)\n",
            "Non-trainable params: 0 (0.00 Byte)\n",
            "_________________________________________________________________\n"
          ]
        }
      ]
    },
    {
      "cell_type": "code",
      "source": [
        "history2 = model2.fit(x_train, y_train, epochs=30, batch_size=64, validation_data=(x_test, y_test), verbose=1)"
      ],
      "metadata": {
        "colab": {
          "base_uri": "https://localhost:8080/"
        },
        "id": "-UopsXAHXmZB",
        "outputId": "836f0f65-13cd-4145-e39c-2a9989ad7fbf"
      },
      "execution_count": 8,
      "outputs": [
        {
          "output_type": "stream",
          "name": "stdout",
          "text": [
            "Epoch 1/30\n",
            "782/782 [==============================] - 9s 9ms/step - loss: 3.7105 - accuracy: 0.1390 - val_loss: 3.2291 - val_accuracy: 0.2172\n",
            "Epoch 2/30\n",
            "782/782 [==============================] - 6s 8ms/step - loss: 2.8571 - accuracy: 0.2898 - val_loss: 2.6838 - val_accuracy: 0.3290\n",
            "Epoch 3/30\n",
            "782/782 [==============================] - 7s 8ms/step - loss: 2.3497 - accuracy: 0.3946 - val_loss: 2.5786 - val_accuracy: 0.3581\n",
            "Epoch 4/30\n",
            "782/782 [==============================] - 6s 8ms/step - loss: 1.9535 - accuracy: 0.4844 - val_loss: 2.5395 - val_accuracy: 0.3754\n",
            "Epoch 5/30\n",
            "782/782 [==============================] - 7s 9ms/step - loss: 1.5547 - accuracy: 0.5748 - val_loss: 2.6282 - val_accuracy: 0.3746\n",
            "Epoch 6/30\n",
            "782/782 [==============================] - 6s 8ms/step - loss: 1.1484 - accuracy: 0.6744 - val_loss: 3.0004 - val_accuracy: 0.3669\n",
            "Epoch 7/30\n",
            "782/782 [==============================] - 7s 8ms/step - loss: 0.7682 - accuracy: 0.7752 - val_loss: 3.4930 - val_accuracy: 0.3503\n",
            "Epoch 8/30\n",
            "782/782 [==============================] - 6s 8ms/step - loss: 0.4828 - accuracy: 0.8526 - val_loss: 4.3399 - val_accuracy: 0.3416\n",
            "Epoch 9/30\n",
            "782/782 [==============================] - 7s 9ms/step - loss: 0.3260 - accuracy: 0.8980 - val_loss: 4.9545 - val_accuracy: 0.3398\n",
            "Epoch 10/30\n",
            "782/782 [==============================] - 9s 12ms/step - loss: 0.2385 - accuracy: 0.9252 - val_loss: 5.4964 - val_accuracy: 0.3373\n",
            "Epoch 11/30\n",
            "782/782 [==============================] - 7s 9ms/step - loss: 0.2024 - accuracy: 0.9346 - val_loss: 5.9008 - val_accuracy: 0.3348\n",
            "Epoch 12/30\n",
            "782/782 [==============================] - 6s 8ms/step - loss: 0.1933 - accuracy: 0.9391 - val_loss: 6.5534 - val_accuracy: 0.3353\n",
            "Epoch 13/30\n",
            "782/782 [==============================] - 7s 9ms/step - loss: 0.1770 - accuracy: 0.9438 - val_loss: 6.9326 - val_accuracy: 0.3254\n",
            "Epoch 14/30\n",
            "782/782 [==============================] - 6s 8ms/step - loss: 0.1457 - accuracy: 0.9539 - val_loss: 7.2355 - val_accuracy: 0.3255\n",
            "Epoch 15/30\n",
            "782/782 [==============================] - 7s 9ms/step - loss: 0.1456 - accuracy: 0.9541 - val_loss: 7.1819 - val_accuracy: 0.3283\n",
            "Epoch 16/30\n",
            "782/782 [==============================] - 6s 8ms/step - loss: 0.1356 - accuracy: 0.9580 - val_loss: 7.7457 - val_accuracy: 0.3186\n",
            "Epoch 17/30\n",
            "782/782 [==============================] - 7s 9ms/step - loss: 0.1362 - accuracy: 0.9568 - val_loss: 7.4947 - val_accuracy: 0.3253\n",
            "Epoch 18/30\n",
            "782/782 [==============================] - 6s 8ms/step - loss: 0.1247 - accuracy: 0.9603 - val_loss: 8.1493 - val_accuracy: 0.3246\n",
            "Epoch 19/30\n",
            "782/782 [==============================] - 7s 9ms/step - loss: 0.1067 - accuracy: 0.9662 - val_loss: 8.0793 - val_accuracy: 0.3262\n",
            "Epoch 20/30\n",
            "782/782 [==============================] - 6s 8ms/step - loss: 0.1242 - accuracy: 0.9610 - val_loss: 8.0705 - val_accuracy: 0.3199\n",
            "Epoch 21/30\n",
            "782/782 [==============================] - 7s 9ms/step - loss: 0.1183 - accuracy: 0.9635 - val_loss: 8.3471 - val_accuracy: 0.3179\n",
            "Epoch 22/30\n",
            "782/782 [==============================] - 6s 8ms/step - loss: 0.1039 - accuracy: 0.9672 - val_loss: 8.5489 - val_accuracy: 0.3188\n",
            "Epoch 23/30\n",
            "782/782 [==============================] - 7s 8ms/step - loss: 0.1083 - accuracy: 0.9661 - val_loss: 8.1856 - val_accuracy: 0.3183\n",
            "Epoch 24/30\n",
            "782/782 [==============================] - 6s 8ms/step - loss: 0.0923 - accuracy: 0.9719 - val_loss: 8.9140 - val_accuracy: 0.3177\n",
            "Epoch 25/30\n",
            "782/782 [==============================] - 7s 9ms/step - loss: 0.1084 - accuracy: 0.9669 - val_loss: 8.8295 - val_accuracy: 0.3121\n",
            "Epoch 26/30\n",
            "782/782 [==============================] - 6s 8ms/step - loss: 0.1183 - accuracy: 0.9635 - val_loss: 9.2686 - val_accuracy: 0.3171\n",
            "Epoch 27/30\n",
            "782/782 [==============================] - 6s 8ms/step - loss: 0.0891 - accuracy: 0.9727 - val_loss: 9.3931 - val_accuracy: 0.3184\n",
            "Epoch 28/30\n",
            "782/782 [==============================] - 7s 8ms/step - loss: 0.0922 - accuracy: 0.9718 - val_loss: 9.3190 - val_accuracy: 0.3167\n",
            "Epoch 29/30\n",
            "782/782 [==============================] - 8s 10ms/step - loss: 0.0922 - accuracy: 0.9723 - val_loss: 10.2182 - val_accuracy: 0.3205\n",
            "Epoch 30/30\n",
            "782/782 [==============================] - 6s 8ms/step - loss: 0.0895 - accuracy: 0.9740 - val_loss: 9.3214 - val_accuracy: 0.3163\n"
          ]
        }
      ]
    },
    {
      "cell_type": "code",
      "source": [
        "import matplotlib.pyplot as plt\n",
        "\n",
        "plt.plot(history2.history['accuracy'])\n",
        "plt.plot(history2.history['val_accuracy'])  # Agrega esta línea\n",
        "plt.title('Model Accuracy')\n",
        "plt.ylabel('Accuracy')\n",
        "plt.xlabel('Epoch')\n",
        "plt.show()"
      ],
      "metadata": {
        "colab": {
          "base_uri": "https://localhost:8080/",
          "height": 472
        },
        "id": "yfjFvT0JXoP6",
        "outputId": "6407fab2-8bbb-421c-e87c-c370d5f56166"
      },
      "execution_count": 9,
      "outputs": [
        {
          "output_type": "display_data",
          "data": {
            "text/plain": [
              "<Figure size 640x480 with 1 Axes>"
            ],
            "image/png": "[encoded data removed]"
          },
          "metadata": {}
        }
      ]
    },
    {
      "cell_type": "code",
      "source": [
        "#el siguiente es data augmentation\n",
        "from keras.preprocessing.image import ImageDataGenerator\n",
        "datagen = ImageDataGenerator(width_shift_range=0.1, height_shift_range=0.1, horizontal_flip=True)\n",
        "# prepare iterator\n",
        "it_train = datagen.flow(x_train, y_train, batch_size=64)"
      ],
      "metadata": {
        "id": "ukn3B2K8XpZE"
      },
      "execution_count": 10,
      "outputs": []
    },
    {
      "cell_type": "code",
      "source": [
        "steps = int(x_train.shape[0] / 64)\n",
        "history3 = model2.fit_generator(it_train, steps_per_epoch=steps, epochs=30, validation_data=(x_test, y_test), verbose=1)"
      ],
      "metadata": {
        "colab": {
          "base_uri": "https://localhost:8080/"
        },
        "id": "WlCpvLe6XuIL",
        "outputId": "277825dc-695f-4cdf-cb1f-a00428404db8"
      },
      "execution_count": 11,
      "outputs": [
        {
          "metadata": {
            "tags": null
          },
          "name": "stdout",
          "output_type": "stream",
          "text": [
            "Epoch 1/30\n"
          ]
        },
        {
          "metadata": {
            "tags": null
          },
          "name": "stderr",
          "output_type": "stream",
          "text": [
            "<ipython-input-11-5e4f57159a58>:2: UserWarning: `Model.fit_generator` is deprecated and will be removed in a future version. Please use `Model.fit`, which supports generators.\n",
            "  history3 = model2.fit_generator(it_train, steps_per_epoch=steps, epochs=30, validation_data=(x_test, y_test), verbose=1)\n"
          ]
        },
        {
          "output_type": "stream",
          "name": "stdout",
          "text": [
            "781/781 [==============================] - 32s 41ms/step - loss: 2.8033 - accuracy: 0.3217 - val_loss: 2.5572 - val_accuracy: 0.3624\n",
            "Epoch 2/30\n",
            "781/781 [==============================] - 30s 39ms/step - loss: 2.3857 - accuracy: 0.3880 - val_loss: 2.5213 - val_accuracy: 0.3675\n",
            "Epoch 3/30\n",
            "781/781 [==============================] - 31s 40ms/step - loss: 2.2478 - accuracy: 0.4172 - val_loss: 2.4187 - val_accuracy: 0.3992\n",
            "Epoch 4/30\n",
            "781/781 [==============================] - 30s 39ms/step - loss: 2.1619 - accuracy: 0.4358 - val_loss: 2.3588 - val_accuracy: 0.3941\n",
            "Epoch 5/30\n",
            "781/781 [==============================] - 30s 38ms/step - loss: 2.0843 - accuracy: 0.4515 - val_loss: 2.2898 - val_accuracy: 0.4223\n",
            "Epoch 6/30\n",
            "781/781 [==============================] - 30s 38ms/step - loss: 2.0162 - accuracy: 0.4686 - val_loss: 2.2549 - val_accuracy: 0.4244\n",
            "Epoch 7/30\n",
            "781/781 [==============================] - 30s 38ms/step - loss: 1.9574 - accuracy: 0.4789 - val_loss: 2.3270 - val_accuracy: 0.4160\n",
            "Epoch 8/30\n",
            "781/781 [==============================] - 29s 38ms/step - loss: 1.8974 - accuracy: 0.4921 - val_loss: 2.2720 - val_accuracy: 0.4283\n",
            "Epoch 9/30\n",
            "781/781 [==============================] - 32s 40ms/step - loss: 1.8553 - accuracy: 0.5034 - val_loss: 2.2483 - val_accuracy: 0.4301\n",
            "Epoch 10/30\n",
            "781/781 [==============================] - 30s 39ms/step - loss: 1.8231 - accuracy: 0.5112 - val_loss: 2.1580 - val_accuracy: 0.4590\n",
            "Epoch 11/30\n",
            "781/781 [==============================] - 30s 39ms/step - loss: 1.7732 - accuracy: 0.5214 - val_loss: 2.1580 - val_accuracy: 0.4559\n",
            "Epoch 12/30\n",
            "781/781 [==============================] - 31s 39ms/step - loss: 1.7408 - accuracy: 0.5277 - val_loss: 2.1565 - val_accuracy: 0.4570\n",
            "Epoch 13/30\n",
            "781/781 [==============================] - 30s 39ms/step - loss: 1.7014 - accuracy: 0.5392 - val_loss: 2.1859 - val_accuracy: 0.4568\n",
            "Epoch 14/30\n",
            "781/781 [==============================] - 29s 38ms/step - loss: 1.6706 - accuracy: 0.5457 - val_loss: 2.1438 - val_accuracy: 0.4654\n",
            "Epoch 15/30\n",
            "781/781 [==============================] - 30s 38ms/step - loss: 1.6467 - accuracy: 0.5513 - val_loss: 2.1288 - val_accuracy: 0.4711\n",
            "Epoch 16/30\n",
            "781/781 [==============================] - 29s 38ms/step - loss: 1.6156 - accuracy: 0.5576 - val_loss: 2.1318 - val_accuracy: 0.4686\n",
            "Epoch 17/30\n",
            "781/781 [==============================] - 29s 38ms/step - loss: 1.5821 - accuracy: 0.5654 - val_loss: 2.1117 - val_accuracy: 0.4724\n",
            "Epoch 18/30\n",
            "781/781 [==============================] - 31s 40ms/step - loss: 1.5554 - accuracy: 0.5724 - val_loss: 2.1806 - val_accuracy: 0.4672\n",
            "Epoch 19/30\n",
            "781/781 [==============================] - 28s 36ms/step - loss: 1.5445 - accuracy: 0.5745 - val_loss: 2.1607 - val_accuracy: 0.4675\n",
            "Epoch 20/30\n",
            "781/781 [==============================] - 28s 36ms/step - loss: 1.5142 - accuracy: 0.5837 - val_loss: 2.1328 - val_accuracy: 0.4728\n",
            "Epoch 21/30\n",
            "781/781 [==============================] - 28s 36ms/step - loss: 1.4970 - accuracy: 0.5869 - val_loss: 2.1498 - val_accuracy: 0.4779\n",
            "Epoch 22/30\n",
            "781/781 [==============================] - 30s 38ms/step - loss: 1.4815 - accuracy: 0.5883 - val_loss: 2.1509 - val_accuracy: 0.4786\n",
            "Epoch 23/30\n",
            "781/781 [==============================] - 29s 37ms/step - loss: 1.4579 - accuracy: 0.5961 - val_loss: 2.1487 - val_accuracy: 0.4750\n",
            "Epoch 24/30\n",
            "781/781 [==============================] - 29s 37ms/step - loss: 1.4253 - accuracy: 0.6037 - val_loss: 2.2190 - val_accuracy: 0.4653\n",
            "Epoch 25/30\n",
            "781/781 [==============================] - 30s 38ms/step - loss: 1.4167 - accuracy: 0.6070 - val_loss: 2.1439 - val_accuracy: 0.4767\n",
            "Epoch 26/30\n",
            "781/781 [==============================] - 29s 37ms/step - loss: 1.4094 - accuracy: 0.6053 - val_loss: 2.1674 - val_accuracy: 0.4725\n",
            "Epoch 27/30\n",
            "781/781 [==============================] - 30s 39ms/step - loss: 1.3909 - accuracy: 0.6119 - val_loss: 2.2033 - val_accuracy: 0.4732\n",
            "Epoch 28/30\n",
            "781/781 [==============================] - 29s 37ms/step - loss: 1.3652 - accuracy: 0.6171 - val_loss: 2.2102 - val_accuracy: 0.4739\n",
            "Epoch 29/30\n",
            "781/781 [==============================] - 28s 36ms/step - loss: 1.3576 - accuracy: 0.6174 - val_loss: 2.1715 - val_accuracy: 0.4829\n",
            "Epoch 30/30\n",
            "781/781 [==============================] - 28s 36ms/step - loss: 1.3407 - accuracy: 0.6254 - val_loss: 2.3015 - val_accuracy: 0.4672\n"
          ]
        }
      ]
    },
    {
      "cell_type": "code",
      "source": [
        "import matplotlib.pyplot as plt\n",
        "\n",
        "plt.plot(history3.history['accuracy'])\n",
        "plt.plot(history3.history['val_accuracy'])  # Agrega esta línea\n",
        "plt.title('Model Accuracy')\n",
        "plt.ylabel('Accuracy')\n",
        "plt.xlabel('Epoch')\n",
        "plt.show()"
      ],
      "metadata": {
        "colab": {
          "base_uri": "https://localhost:8080/",
          "height": 472
        },
        "id": "yCS_MeVWX1co",
        "outputId": "a20443f1-cf12-4b67-959e-dae51df664d2"
      },
      "execution_count": 12,
      "outputs": [
        {
          "output_type": "display_data",
          "data": {
            "text/plain": [
              "<Figure size 640x480 with 1 Axes>"
            ],
            "image/png": "[encoded data removed]"
          },
          "metadata": {}
        }
      ]
    },
    {
      "cell_type": "markdown",
      "metadata": {
        "id": "BkO4HF5_XRzY"
      },
      "source": []
    }
  ],
  "metadata": {
    "language_info": {
      "name": "python"
    },
    "colab": {
      "provenance": [],
      "gpuType": "T4"
    },
    "kernelspec": {
      "name": "python3",
      "display_name": "Python 3"
    },
    "accelerator": "GPU"
  },
  "nbformat": 4,
  "nbformat_minor": 0
}