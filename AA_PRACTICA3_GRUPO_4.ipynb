{
  "cells": [
    {
      "cell_type": "markdown",
      "metadata": {
        "id": "GSIJEeGHsDEu"
      },
      "source": [
        "### Grupo 4\n",
        "### Miguel Egido Morales, Ana Robledano Abasolo, Alfredo Robledano Abasolo\n",
        "# P3 AA Redes de Neuronas Convolucionales"
      ]
    },
    {
      "cell_type": "code",
      "execution_count": null,
      "metadata": {
        "id": "3gKDxYaNsDE0",
        "outputId": "9df59796-17f1-4c12-df3f-df06340bae9f"
      },
      "outputs": [
        {
          "name": "stdout",
          "output_type": "stream",
          "text": [
            "WARNING:tensorflow:From c:\\Users\\alfre\\Desktop\\Utils\\AA_PRACTICA3_4\\.venv\\Lib\\site-packages\\keras\\src\\losses.py:2976: The name tf.losses.sparse_softmax_cross_entropy is deprecated. Please use tf.compat.v1.losses.sparse_softmax_cross_entropy instead.\n",
            "\n"
          ]
        }
      ],
      "source": [
        "import tensorflow as tf"
      ]
    },
    {
      "cell_type": "code",
      "execution_count": 95,
      "metadata": {
        "id": "tT9HZIeEsDE2"
      },
      "outputs": [],
      "source": [
        "import tensorflow_datasets as tfds\n",
        "(x1_train, y1_train), (x1_test, y1_test) = tf.keras.datasets.cifar100.load_data(label_mode='coarse')\n",
        "(x2_train, y2_train), (x2_test, y2_test) = tf.keras.datasets.cifar100.load_data(label_mode='fine')"
      ]
    },
    {
      "cell_type": "code",
      "execution_count": 127,
      "metadata": {
        "colab": {
          "base_uri": "https://localhost:8080/"
        },
        "id": "V19pqvl_sDE3",
        "outputId": "098accf8-0285-4972-de25-e98d0dc8ab79"
      },
      "outputs": [
        {
          "output_type": "stream",
          "name": "stdout",
          "text": [
            "{'coarse_label': <tf.Tensor: shape=(), dtype=int64, numpy=12>, 'id': <tf.Tensor: shape=(), dtype=string, numpy=b'train_16399'>, 'image': <tf.Tensor: shape=(32, 32, 3), dtype=uint8, numpy=\n",
            "array([[[151, 154, 145],\n",
            "        [144, 147, 135],\n",
            "        [141, 143, 134],\n",
            "        ...,\n",
            "        [ 44,  38,  39],\n",
            "        [112, 100,  96],\n",
            "        [145, 127, 120]],\n",
            "\n",
            "       [[153, 156, 150],\n",
            "        [141, 144, 135],\n",
            "        [139, 142, 136],\n",
            "        ...,\n",
            "        [ 68,  59,  59],\n",
            "        [131, 113, 106],\n",
            "        [121, 101,  94]],\n",
            "\n",
            "       [[163, 165, 161],\n",
            "        [150, 153, 145],\n",
            "        [147, 149, 144],\n",
            "        ...,\n",
            "        [ 75,  66,  60],\n",
            "        [101,  86,  77],\n",
            "        [ 83,  77,  73]],\n",
            "\n",
            "       ...,\n",
            "\n",
            "       [[150, 150, 162],\n",
            "        [ 51,  52,  67],\n",
            "        [ 46,  42,  56],\n",
            "        ...,\n",
            "        [ 60,  59,  48],\n",
            "        [ 71,  73,  56],\n",
            "        [ 58,  62,  44]],\n",
            "\n",
            "       [[146, 158, 168],\n",
            "        [ 92, 106, 116],\n",
            "        [ 73,  77,  85],\n",
            "        ...,\n",
            "        [ 54,  55,  40],\n",
            "        [ 59,  66,  41],\n",
            "        [ 52,  56,  28]],\n",
            "\n",
            "       [[ 92,  95, 105],\n",
            "        [ 86,  90, 100],\n",
            "        [ 77,  74,  82],\n",
            "        ...,\n",
            "        [ 59,  61,  44],\n",
            "        [ 44,  49,  26],\n",
            "        [ 51,  53,  27]]], dtype=uint8)>, 'label': <tf.Tensor: shape=(), dtype=int64, numpy=66>}\n"
          ]
        },
        {
          "output_type": "execute_result",
          "data": {
            "text/plain": [
              "<tf.Tensor: shape=(), dtype=int64, numpy=12>"
            ]
          },
          "metadata": {},
          "execution_count": 127
        }
      ],
      "source": [
        "(ds_train, ds_test) , ds_info = tfds.load('cifar100', split=['train', 'test'], with_info=True)\n",
        "my_np = tfds.as_numpy(ds_train)\n",
        "for i in ds_train:\n",
        "  print(i)\n",
        "  break\n",
        "i['coarse_label']"
      ]
    },
    {
      "cell_type": "code",
      "source": [],
      "metadata": {
        "id": "HJijGeWduUwC"
      },
      "execution_count": null,
      "outputs": []
    }
  ],
  "metadata": {
    "kernelspec": {
      "display_name": ".venv",
      "language": "python",
      "name": "python3"
    },
    "language_info": {
      "codemirror_mode": {
        "name": "ipython",
        "version": 3
      },
      "file_extension": ".py",
      "mimetype": "text/x-python",
      "name": "python",
      "nbconvert_exporter": "python",
      "pygments_lexer": "ipython3",
      "version": "3.11.4"
    },
    "colab": {
      "provenance": []
    }
  },
  "nbformat": 4,
  "nbformat_minor": 0
}