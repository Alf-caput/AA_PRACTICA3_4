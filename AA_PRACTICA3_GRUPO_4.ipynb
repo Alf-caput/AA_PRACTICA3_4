{
 "cells": [
  {
   "cell_type": "markdown",
   "metadata": {},
   "source": [
    "### Grupo 4\n",
    "### Miguel Egido Morales, Ana Robledano Abasolo, Alfredo Robledano Abasolo\n",
    "# P3 AA Redes de Neuronas Convolucionales"
   ]
  },
  {
   "cell_type": "code",
   "execution_count": 1,
   "metadata": {},
   "outputs": [
    {
     "name": "stdout",
     "output_type": "stream",
     "text": [
      "WARNING:tensorflow:From c:\\Users\\alfre\\Desktop\\Utils\\AA_PRACTICA3_4\\.venv\\Lib\\site-packages\\keras\\src\\losses.py:2976: The name tf.losses.sparse_softmax_cross_entropy is deprecated. Please use tf.compat.v1.losses.sparse_softmax_cross_entropy instead.\n",
      "\n"
     ]
    }
   ],
   "source": [
    "import tensorflow as tf"
   ]
  },
  {
   "cell_type": "code",
   "execution_count": 2,
   "metadata": {},
   "outputs": [
    {
     "ename": "ModuleNotFoundError",
     "evalue": "No module named 'tensorflow_datasets'",
     "output_type": "error",
     "traceback": [
      "\u001b[1;31m---------------------------------------------------------------------------\u001b[0m",
      "\u001b[1;31mModuleNotFoundError\u001b[0m                       Traceback (most recent call last)",
      "\u001b[1;32mc:\\Users\\alfre\\Desktop\\Utils\\AA_PRACTICA3_4\\AA_PRACTICA3_GRUPO_4.ipynb Cell 3\u001b[0m line \u001b[0;36m1\n\u001b[1;32m----> <a href='vscode-notebook-cell:/c%3A/Users/alfre/Desktop/Utils/AA_PRACTICA3_4/AA_PRACTICA3_GRUPO_4.ipynb#W3sZmlsZQ%3D%3D?line=0'>1</a>\u001b[0m \u001b[39mimport\u001b[39;00m \u001b[39mtensorflow_datasets\u001b[39;00m \u001b[39mas\u001b[39;00m \u001b[39mtfds\u001b[39;00m\n\u001b[0;32m      <a href='vscode-notebook-cell:/c%3A/Users/alfre/Desktop/Utils/AA_PRACTICA3_4/AA_PRACTICA3_GRUPO_4.ipynb#W3sZmlsZQ%3D%3D?line=1'>2</a>\u001b[0m (ds_train, ds_test) \u001b[39m=\u001b[39m tfds\u001b[39m.\u001b[39mload(\n\u001b[0;32m      <a href='vscode-notebook-cell:/c%3A/Users/alfre/Desktop/Utils/AA_PRACTICA3_4/AA_PRACTICA3_GRUPO_4.ipynb#W3sZmlsZQ%3D%3D?line=2'>3</a>\u001b[0m     \u001b[39m\"\u001b[39m\u001b[39mcifar100\u001b[39m\u001b[39m\"\u001b[39m,\n\u001b[0;32m      <a href='vscode-notebook-cell:/c%3A/Users/alfre/Desktop/Utils/AA_PRACTICA3_4/AA_PRACTICA3_GRUPO_4.ipynb#W3sZmlsZQ%3D%3D?line=3'>4</a>\u001b[0m     split\u001b[39m=\u001b[39m[\u001b[39m'\u001b[39m\u001b[39mtrain\u001b[39m\u001b[39m'\u001b[39m, \u001b[39m'\u001b[39m\u001b[39mtest\u001b[39m\u001b[39m'\u001b[39m],\n\u001b[0;32m      <a href='vscode-notebook-cell:/c%3A/Users/alfre/Desktop/Utils/AA_PRACTICA3_4/AA_PRACTICA3_GRUPO_4.ipynb#W3sZmlsZQ%3D%3D?line=4'>5</a>\u001b[0m     shuffle_files\u001b[39m=\u001b[39m\u001b[39mTrue\u001b[39;00m,\n\u001b[0;32m      <a href='vscode-notebook-cell:/c%3A/Users/alfre/Desktop/Utils/AA_PRACTICA3_4/AA_PRACTICA3_GRUPO_4.ipynb#W3sZmlsZQ%3D%3D?line=5'>6</a>\u001b[0m )\n",
      "\u001b[1;31mModuleNotFoundError\u001b[0m: No module named 'tensorflow_datasets'"
     ]
    }
   ],
   "source": [
    "import tensorflow_datasets as tfds\n",
    "(ds_train, ds_test) = tfds.load(\n",
    "    \"cifar100\",\n",
    "    split=['train', 'test'],\n",
    "    shuffle_files=True,\n",
    ")"
   ]
  },
  {
   "cell_type": "code",
   "execution_count": null,
   "metadata": {},
   "outputs": [],
   "source": []
  }
 ],
 "metadata": {
  "kernelspec": {
   "display_name": ".venv",
   "language": "python",
   "name": "python3"
  },
  "language_info": {
   "codemirror_mode": {
    "name": "ipython",
    "version": 3
   },
   "file_extension": ".py",
   "mimetype": "text/x-python",
   "name": "python",
   "nbconvert_exporter": "python",
   "pygments_lexer": "ipython3",
   "version": "3.11.4"
  }
 },
 "nbformat": 4,
 "nbformat_minor": 2
}
