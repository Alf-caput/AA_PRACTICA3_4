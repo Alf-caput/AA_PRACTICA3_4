{
 "cells": [
  {
   "cell_type": "markdown",
   "metadata": {},
   "source": [
    "### Grupo 4\n",
    "### Miguel Egido Morales, Ana Robledano Abasolo, Alfredo Robledano Abasolo\n",
    "# P3 AA Redes de Neuronas Convolucionales"
   ]
  },
  {
   "cell_type": "markdown",
   "metadata": {},
   "source": []
  }
 ],
 "metadata": {
  "language_info": {
   "name": "python"
  }
 },
 "nbformat": 4,
 "nbformat_minor": 2
}
