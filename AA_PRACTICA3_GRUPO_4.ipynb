{
  "cells": [
    {
      "cell_type": "markdown",
      "metadata": {
        "id": "GSIJEeGHsDEu"
      },
      "source": [
        "### Grupo 4\n",
        "### Miguel Egido Morales, Ana Robledano Abasolo, Alfredo Robledano Abasolo\n",
        "# P3 AA Redes de Neuronas Convolucionales"
      ]
    },
    {
      "cell_type": "code",
      "source": [
        "from time import perf_counter\n",
        "import tensorflow as tf\n",
        "import tensorflow_datasets as tfds"
      ],
      "metadata": {
        "id": "nPZTZv6ATmLn"
      },
      "execution_count": 1,
      "outputs": []
    },
    {
      "cell_type": "code",
      "source": [
        "#t0 = perf_counter()\n",
        "#(ds_train, ds_test), ds_info = tfds.load('cifar100',\n",
        "#               split=['train', 'test'],\n",
        "#               batch_size=-1,\n",
        "#               with_info=True)\n",
        "#t1 = perf_counter()\n",
        "#print('Elapsed: ', t1-t0)"
      ],
      "metadata": {
        "id": "p65lnl1KU6kl"
      },
      "execution_count": 2,
      "outputs": []
    },
    {
      "cell_type": "code",
      "source": [
        "#class_info = ds_info.features['label'].names\n",
        "#super_class_info = ds_info.features['coarse_label'].names\n",
        "#class_dict = {i: class_name for i, class_name in enumerate(class_info)}\n",
        "#super_class_dict = {i: class_name for i, class_name in enumerate(super_class_info)}\n",
        "#print(super_class_dict)"
      ],
      "metadata": {
        "id": "LaMekFpCt75L"
      },
      "execution_count": 3,
      "outputs": []
    },
    {
      "cell_type": "code",
      "source": [
        "#import matplotlib.pyplot as plt\n",
        "\n",
        "#fig = plt.figure(figsize=(12, 8))\n",
        "\n",
        "#plt.subplot(2, 2, 1)\n",
        "#plt.imshow(ds_train['image'][30_000].numpy())\n",
        "#plt.title(f\":{ds_train['coarse_label'][30_000].numpy()}\")"
      ],
      "metadata": {
        "id": "8ellB1-RicT3"
      },
      "execution_count": 4,
      "outputs": []
    },
    {
      "cell_type": "code",
      "source": [
        "t0 = perf_counter()\n",
        "ds, ds_info = tfds.load('cifar100',\n",
        "               shuffle_files=True,\n",
        "               with_info=True)\n",
        "t1 = perf_counter()\n",
        "print('Elapsed: ', t1-t0)"
      ],
      "metadata": {
        "id": "lCrypoaaj2el",
        "outputId": "f278ecf7-8b67-4139-ec7a-1a2952203137",
        "colab": {
          "base_uri": "https://localhost:8080/"
        }
      },
      "execution_count": 13,
      "outputs": [
        {
          "output_type": "stream",
          "name": "stdout",
          "text": [
            "Elapsed:  0.08793592199981504\n"
          ]
        }
      ]
    },
    {
      "cell_type": "code",
      "source": [
        "ds_train = ds['train'].map(lambda x: {'image': x['image'],\n",
        "                                      'label': x['label'],\n",
        "                                      'coarse_label': x['coarse_label']})\n",
        "validation_size = int(0.2 * ds_info.splits['train'].num_examples)\n",
        "\n",
        "ds_validation = ds_train.take(validation_size)\n",
        "ds_train = ds_train.skip(validation_size)"
      ],
      "metadata": {
        "id": "We2lMOj1yehf"
      },
      "execution_count": 17,
      "outputs": []
    },
    {
      "cell_type": "code",
      "source": [
        "import matplotlib.pyplot as plt\n",
        "#for data1, data2 in zip(ds_train, ds_validation):\n",
        "peek = ds_validation.take(1).as_numpy_iterator()\n",
        "fig = plt.figure(figsize=(12, 8))\n",
        "for arr in peek:\n",
        "  plt.subplot(2, 2, 1)\n",
        "  plt.imshow(arr['image'])\n",
        "  plt.title(f\"{ds_info.features['label'].names[arr['coarse_label']]}:{arr['coarse_label']}\")"
      ],
      "metadata": {
        "id": "bKHTQILEygZN",
        "outputId": "f35d60f3-ee5c-4b50-d3a5-46bbb52afbbe",
        "colab": {
          "base_uri": "https://localhost:8080/",
          "height": 363
        }
      },
      "execution_count": 32,
      "outputs": [
        {
          "output_type": "display_data",
          "data": {
            "text/plain": [
              "<Figure size 1200x800 with 1 Axes>"
            ],
            "image/png": "[encoded data removed]"
          },
          "metadata": {}
        }
      ]
    },
    {
      "cell_type": "code",
      "source": [],
      "metadata": {
        "id": "wEA-8MwLyx69",
        "outputId": "8b1354e9-dd31-4e1b-c039-0b94e4358c71",
        "colab": {
          "base_uri": "https://localhost:8080/",
          "height": 35
        }
      },
      "execution_count": 31,
      "outputs": [
        {
          "output_type": "execute_result",
          "data": {
            "text/plain": [
              "'apple'"
            ],
            "application/vnd.google.colaboratory.intrinsic+json": {
              "type": "string"
            }
          },
          "metadata": {},
          "execution_count": 31
        }
      ]
    },
    {
      "cell_type": "code",
      "source": [],
      "metadata": {
        "id": "BcpsHf0ZLC1L"
      },
      "execution_count": null,
      "outputs": []
    }
  ],
  "metadata": {
    "kernelspec": {
      "display_name": "Python 3",
      "name": "python3"
    },
    "language_info": {
      "codemirror_mode": {
        "name": "ipython",
        "version": 3
      },
      "file_extension": ".py",
      "mimetype": "text/x-python",
      "name": "python",
      "nbconvert_exporter": "python",
      "pygments_lexer": "ipython3",
      "version": "3.11.4"
    },
    "colab": {
      "provenance": [],
      "gpuType": "T4"
    },
    "accelerator": "GPU"
  },
  "nbformat": 4,
  "nbformat_minor": 0
}