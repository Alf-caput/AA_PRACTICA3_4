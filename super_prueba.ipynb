{
  "cells": [
    {
      "cell_type": "code",
      "execution_count": 94,
      "metadata": {
        "id": "9Eb5WNQc73hw"
      },
      "outputs": [],
      "source": [
        "classes = ['apple', 'aquarium_fish', 'baby', 'bear', 'beaver', 'bed', 'bee', 'beetle', 'bicycle', 'bottle', 'bowl', 'boy', 'bridge', 'bus', 'butterfly', 'camel', 'can', 'castle', 'caterpillar', 'cattle', 'chair', 'chimpanzee', 'clock', 'cloud', 'cockroach', 'couch', 'crab', 'crocodile', 'cup', 'dinosaur', 'dolphin', 'elephant', 'flatfish', 'forest', 'fox', 'girl', 'hamster', 'house', 'kangaroo', 'keyboard', 'lamp', 'lawn_mower', 'leopard', 'lion', 'lizard', 'lobster', 'man', 'maple_tree', 'motorcycle', 'mountain', 'mouse', 'mushroom', 'oak_tree', 'orange', 'orchid', 'otter', 'palm_tree', 'pear', 'pickup_truck', 'pine_tree', 'plain', 'plate', 'poppy', 'porcupine', 'possum', 'rabbit', 'raccoon', 'ray', 'road', 'rocket', 'rose', 'sea', 'seal', 'shark', 'shrew', 'skunk', 'skyscraper', 'snail', 'snake', 'spider', 'squirrel', 'streetcar', 'sunflower', 'sweet_pepper', 'table', 'tank', 'telephone', 'television', 'tiger', 'tractor', 'train', 'trout', 'tulip', 'turtle', 'wardrobe', 'whale', 'willow_tree', 'wolf', 'woman', 'worm']\n",
        "super_classes = ['aquatic_mammals', 'fish', 'flowers', 'food_containers', 'fruit_and_vegetables', 'household_electrical_devices', 'household_furniture', 'insects', 'large_carnivores', 'large_man-made_outdoor_things', 'large_natural_outdoor_scenes', 'large_omnivores_and_herbivores', 'medium_mammals', 'non-insect_invertebrates', 'people', 'reptiles', 'small_mammals', 'trees', 'vehicles_1', 'vehicles_2']\n",
        "\n",
        "num_classes = len(classes)\n",
        "num_super_classes = len(super_classes)"
      ]
    },
    {
      "cell_type": "code",
      "source": [],
      "metadata": {
        "id": "wNpsOFMSdea3"
      },
      "execution_count": 94,
      "outputs": []
    },
    {
      "cell_type": "code",
      "source": [],
      "metadata": {
        "id": "cENAHiz3dfGt"
      },
      "execution_count": 94,
      "outputs": []
    },
    {
      "cell_type": "code",
      "execution_count": 95,
      "metadata": {
        "id": "XX8kipzT73hy",
        "colab": {
          "base_uri": "https://localhost:8080/"
        },
        "outputId": "feb211b7-b771-401a-9f21-fb9a011d8f71"
      },
      "outputs": [
        {
          "output_type": "stream",
          "name": "stdout",
          "text": [
            "(<tf.Tensor: shape=(32, 32, 3), dtype=uint8, numpy=\n",
            "array([[[255, 255, 255],\n",
            "        [255, 255, 255],\n",
            "        [255, 255, 255],\n",
            "        ...,\n",
            "        [195, 205, 193],\n",
            "        [212, 224, 204],\n",
            "        [182, 194, 167]],\n",
            "\n",
            "       [[255, 255, 255],\n",
            "        [254, 254, 254],\n",
            "        [254, 254, 254],\n",
            "        ...,\n",
            "        [170, 176, 150],\n",
            "        [161, 168, 130],\n",
            "        [146, 154, 113]],\n",
            "\n",
            "       [[255, 255, 255],\n",
            "        [254, 254, 254],\n",
            "        [255, 255, 255],\n",
            "        ...,\n",
            "        [189, 199, 169],\n",
            "        [166, 178, 130],\n",
            "        [121, 133,  87]],\n",
            "\n",
            "       ...,\n",
            "\n",
            "       [[148, 185,  79],\n",
            "        [142, 182,  57],\n",
            "        [140, 179,  60],\n",
            "        ...,\n",
            "        [ 30,  17,   1],\n",
            "        [ 65,  62,  15],\n",
            "        [ 76,  77,  20]],\n",
            "\n",
            "       [[122, 157,  66],\n",
            "        [120, 155,  58],\n",
            "        [126, 160,  71],\n",
            "        ...,\n",
            "        [ 22,  16,   3],\n",
            "        [ 97, 112,  56],\n",
            "        [141, 161,  87]],\n",
            "\n",
            "       [[ 87, 122,  41],\n",
            "        [ 88, 122,  39],\n",
            "        [101, 134,  56],\n",
            "        ...,\n",
            "        [ 34,  36,  10],\n",
            "        [105, 133,  59],\n",
            "        [138, 173,  79]]], dtype=uint8)>, <tf.Tensor: shape=(1,), dtype=int64, numpy=array([11])>, <tf.Tensor: shape=(1,), dtype=int64, numpy=array([19])>)\n"
          ]
        }
      ],
      "source": [
        "import tensorflow as tf\n",
        "\n",
        "ds_train_fine, ds_test_fine = tf.keras.datasets.cifar100.load_data(label_mode='fine')\n",
        "ds_train_coarse, ds_test_coarse = tf.keras.datasets.cifar100.load_data(label_mode='coarse')\n",
        "\n",
        "ds_train = ds_train_coarse[0], ds_train_coarse[1], ds_train_fine[1]\n",
        "ds_test = ds_test_coarse[0], ds_test_coarse[1], ds_test_fine[1]\n",
        "\n",
        "ds_train = tf.data.Dataset.from_tensor_slices(ds_train)\n",
        "ds_test = tf.data.Dataset.from_tensor_slices(ds_test)\n",
        "\n",
        "for elem in ds_train.take(1):\n",
        "  print(elem)"
      ]
    },
    {
      "cell_type": "markdown",
      "source": [
        "En el siguiente bloque de código, se realiza un análisis detallado de las dimensiones del dataset y de sus elementos. Este proceso es fundamental para comprender la estructura de los datos de entrada y garantizar una manipulación adecuada durante el desarrollo del proyecto de inteligencia artificial."
      ],
      "metadata": {
        "id": "B4dkjOm0pKjs"
      }
    },
    {
      "cell_type": "code",
      "source": [
        "num_train = len(ds_train)\n",
        "num_test = len(ds_test)\n",
        "print(f'Train dataset size: {num_train}')\n",
        "print(f'Test dataset size: {num_test}')\n",
        "\n",
        "train_image_spec, train_coarse_spec, train_fine_spec = ds_train.element_spec\n",
        "test_image_spec, test_coarse_spec, test_fine_spec = ds_train.element_spec\n",
        "\n",
        "print(f'Train elements shape: {train_image_spec.shape}, {train_coarse_spec.shape}, {train_fine_spec.shape}')\n",
        "print(f'Test elements shape: {test_image_spec.shape}, {test_coarse_spec.shape}, {train_fine_spec.shape}')\n",
        "\n",
        "print(f'Train elements type: {train_image_spec.dtype}, {train_coarse_spec.dtype}, {train_fine_spec.shape}')\n",
        "print(f'Test elements type: {test_image_spec.dtype}, {test_coarse_spec.dtype}, {test_fine_spec.shape}')"
      ],
      "metadata": {
        "colab": {
          "base_uri": "https://localhost:8080/"
        },
        "id": "oRCNrwF3ozeR",
        "outputId": "2ee3fa92-46f7-4e59-8d75-754b6f011618"
      },
      "execution_count": 96,
      "outputs": [
        {
          "output_type": "stream",
          "name": "stdout",
          "text": [
            "Train dataset size: 50000\n",
            "Test dataset size: 10000\n",
            "Train elements shape: (32, 32, 3), (1,), (1,)\n",
            "Test elements shape: (32, 32, 3), (1,), (1,)\n",
            "Train elements type: <dtype: 'uint8'>, <dtype: 'int64'>, (1,)\n",
            "Test elements type: <dtype: 'uint8'>, <dtype: 'int64'>, (1,)\n"
          ]
        }
      ]
    },
    {
      "cell_type": "markdown",
      "source": [
        "Nos fijamos que en los datasets resultantes las imágenes tienen un formato adecuado de 32x32 pixels en 3 canales (RGB), pero las etiquetas deberían ser escalares. Convertimos las etiquetas para que tengan dimensión ()."
      ],
      "metadata": {
        "id": "8Izw-UyjlYfI"
      }
    },
    {
      "cell_type": "code",
      "source": [
        "# Las etiquetas son tensores de dimensión (1,) convertimos a ()\n",
        "def reshape_label(image, coarse, fine):\n",
        "  return image, tf.reshape(coarse, ()), tf.reshape(fine, ())\n",
        "\n",
        "ds_train = ds_train.map(reshape_label)\n",
        "ds_test = ds_test.map(reshape_label)"
      ],
      "metadata": {
        "id": "Cl-q0O7RlDzB"
      },
      "execution_count": 97,
      "outputs": []
    },
    {
      "cell_type": "markdown",
      "source": [
        "Vamos a dividir las clases de imágenes para tener 20 datasets que contengan superclasses."
      ],
      "metadata": {
        "id": "AHnDUISSOcAB"
      }
    },
    {
      "cell_type": "code",
      "source": [
        "import matplotlib.pyplot as plt\n",
        "def filter_superclass(image, coarse, fine, target):\n",
        "  return tf.math.equal(coarse, target)\n",
        "\n",
        "def remove_coarse(image, coarse, fine):\n",
        "  return image, fine\n",
        "\n",
        "ds_groups = [[], []]\n",
        "for i, ds in enumerate((ds_train, ds_test)):\n",
        "  for j in range(len(super_classes)):\n",
        "    target = j\n",
        "    filtered_dataset = ds.filter(lambda image, coarse, fine: filter_superclass(image, coarse, fine, target))\n",
        "    filtered_dataset = filtered_dataset.map(remove_coarse)\n",
        "    ds_groups[i].append(filtered_dataset)\n",
        "\n",
        "\n",
        "fig = plt.figure(figsize=(8, 8))\n",
        "# Mostramos 4 imágenes del dataset de entrenamiento\n",
        "for i, x in enumerate(ds_groups[0][18].take(4)):\n",
        "  image, label = x\n",
        "  plt.subplot(2, 2, i+1)\n",
        "  plt.imshow(image)\n",
        "  plt.title(f\"{classes[label]}: {label}\")"
      ],
      "metadata": {
        "id": "9ry3HM35OkFr",
        "outputId": "98192bed-77d4-4940-d509-ef6ad92f7727",
        "colab": {
          "base_uri": "https://localhost:8080/",
          "height": 699
        }
      },
      "execution_count": 98,
      "outputs": [
        {
          "output_type": "display_data",
          "data": {
            "text/plain": [
              "<Figure size 800x800 with 4 Axes>"
            ],
            "image/png": "[encoded data removed]"
          },
          "metadata": {}
        }
      ]
    },
    {
      "cell_type": "markdown",
      "source": [
        "A continuación podemos echar un vistazo a 4 imágenes del dataset y comprobar que las etiquetas se adecuan a su imagen asociada."
      ],
      "metadata": {
        "id": "1spLLLv6maS8"
      }
    },
    {
      "cell_type": "code",
      "source": [
        "import matplotlib.pyplot as plt\n",
        "\n",
        "fig = plt.figure(figsize=(8, 8))\n",
        "# Mostramos 4 imágenes del dataset de entrenamiento\n",
        "for i, x in enumerate(ds_train.take(4)):\n",
        "  image, coarse, _ = x\n",
        "  plt.subplot(2, 2, i+1)\n",
        "  plt.imshow(image)\n",
        "  plt.title(f\"{super_classes[coarse]}: {coarse}\")"
      ],
      "metadata": {
        "colab": {
          "base_uri": "https://localhost:8080/",
          "height": 699
        },
        "id": "rtRtbZyrdSqW",
        "outputId": "9b60e1a4-25db-4b2d-e06b-065ae642323a"
      },
      "execution_count": 99,
      "outputs": [
        {
          "output_type": "display_data",
          "data": {
            "text/plain": [
              "<Figure size 800x800 with 4 Axes>"
            ],
            "image/png": "[encoded data removed]"
          },
          "metadata": {}
        }
      ]
    },
    {
      "cell_type": "markdown",
      "source": [
        "Todo parece correcto, realizamos ahora, un preprocesamiento de las imágenes y etiquetas, para convertirlas en inputs adecuados para nuestros modelos. Definimos la función preprocessing, que aplicaremos a los elementos de los dataset de entrenamiento y test."
      ],
      "metadata": {
        "id": "9YZOE1xfmrB9"
      }
    },
    {
      "cell_type": "code",
      "execution_count": 100,
      "metadata": {
        "id": "LnGK2r5K73hz"
      },
      "outputs": [],
      "source": [
        "def remove_fine(image, coarse, fine):\n",
        "  return image, coarse\n",
        "\n",
        "ds_train = ds_train.map(remove_fine)\n",
        "ds_test = ds_test.map(remove_fine)\n",
        "\n",
        "def preprocessing(image, label):\n",
        "  image = tf.cast(image, tf.float32) / 255.0\n",
        "  label = tf.one_hot(label, depth=num_super_classes)\n",
        "  return image, label\n",
        "\n",
        "ds_train = ds_train.map(preprocessing, num_parallel_calls=tf.data.AUTOTUNE)\n",
        "ds_test = ds_test.map(preprocessing, num_parallel_calls=tf.data.AUTOTUNE)"
      ]
    },
    {
      "cell_type": "markdown",
      "source": [
        "Vemos que la normalización ha tenido éxito"
      ],
      "metadata": {
        "id": "0BiLwZR6Culz"
      }
    },
    {
      "cell_type": "code",
      "source": [
        "for elem in ds_train.take(1):\n",
        "  print(elem)"
      ],
      "metadata": {
        "colab": {
          "base_uri": "https://localhost:8080/"
        },
        "id": "Di9eWfZnCi6p",
        "outputId": "ddeeac70-917d-4418-9465-bc22dc171ef5"
      },
      "execution_count": 101,
      "outputs": [
        {
          "output_type": "stream",
          "name": "stdout",
          "text": [
            "(<tf.Tensor: shape=(32, 32, 3), dtype=float32, numpy=\n",
            "array([[[1.        , 1.        , 1.        ],\n",
            "        [1.        , 1.        , 1.        ],\n",
            "        [1.        , 1.        , 1.        ],\n",
            "        ...,\n",
            "        [0.7647059 , 0.8039216 , 0.75686276],\n",
            "        [0.83137256, 0.8784314 , 0.8       ],\n",
            "        [0.7137255 , 0.7607843 , 0.654902  ]],\n",
            "\n",
            "       [[1.        , 1.        , 1.        ],\n",
            "        [0.99607843, 0.99607843, 0.99607843],\n",
            "        [0.99607843, 0.99607843, 0.99607843],\n",
            "        ...,\n",
            "        [0.6666667 , 0.6901961 , 0.5882353 ],\n",
            "        [0.6313726 , 0.65882355, 0.50980395],\n",
            "        [0.57254905, 0.6039216 , 0.44313726]],\n",
            "\n",
            "       [[1.        , 1.        , 1.        ],\n",
            "        [0.99607843, 0.99607843, 0.99607843],\n",
            "        [1.        , 1.        , 1.        ],\n",
            "        ...,\n",
            "        [0.7411765 , 0.78039217, 0.6627451 ],\n",
            "        [0.6509804 , 0.69803923, 0.50980395],\n",
            "        [0.4745098 , 0.52156866, 0.34117648]],\n",
            "\n",
            "       ...,\n",
            "\n",
            "       [[0.5803922 , 0.7254902 , 0.30980393],\n",
            "        [0.5568628 , 0.7137255 , 0.22352941],\n",
            "        [0.54901963, 0.7019608 , 0.23529412],\n",
            "        ...,\n",
            "        [0.11764706, 0.06666667, 0.00392157],\n",
            "        [0.25490198, 0.24313726, 0.05882353],\n",
            "        [0.29803923, 0.3019608 , 0.07843138]],\n",
            "\n",
            "       [[0.47843137, 0.6156863 , 0.25882354],\n",
            "        [0.47058824, 0.60784316, 0.22745098],\n",
            "        [0.49411765, 0.627451  , 0.2784314 ],\n",
            "        ...,\n",
            "        [0.08627451, 0.0627451 , 0.01176471],\n",
            "        [0.38039216, 0.4392157 , 0.21960784],\n",
            "        [0.5529412 , 0.6313726 , 0.34117648]],\n",
            "\n",
            "       [[0.34117648, 0.47843137, 0.16078432],\n",
            "        [0.34509805, 0.47843137, 0.15294118],\n",
            "        [0.39607844, 0.5254902 , 0.21960784],\n",
            "        ...,\n",
            "        [0.13333334, 0.14117648, 0.03921569],\n",
            "        [0.4117647 , 0.52156866, 0.23137255],\n",
            "        [0.5411765 , 0.6784314 , 0.30980393]]], dtype=float32)>, <tf.Tensor: shape=(20,), dtype=float32, numpy=\n",
            "array([0., 0., 0., 0., 0., 0., 0., 0., 0., 0., 0., 1., 0., 0., 0., 0., 0.,\n",
            "       0., 0., 0.], dtype=float32)>)\n"
          ]
        }
      ]
    },
    {
      "cell_type": "markdown",
      "source": [
        "Definimos como datos de validación parte de los datos de entrenamiento, contamos con 50_000 muestras utilizaremos un 20% para validación (10_000 imágenes para validación y 40_000 para ajustar los pesos durante cada época)"
      ],
      "metadata": {
        "id": "e1PMPbP3A0_T"
      }
    },
    {
      "cell_type": "code",
      "source": [
        "ratio = 0.2\n",
        "validation_size = int(ratio * num_train) # 10_000\n",
        "base_ds_val = ds_train.take(validation_size)\n",
        "base_ds_fit = ds_train.skip(validation_size)\n",
        "\n",
        "len(base_ds_val), len(base_ds_fit)"
      ],
      "metadata": {
        "colab": {
          "base_uri": "https://localhost:8080/"
        },
        "id": "StrPy_VuAyv6",
        "outputId": "6bbae738-7107-43eb-a4f8-25921f170b06"
      },
      "execution_count": 102,
      "outputs": [
        {
          "output_type": "execute_result",
          "data": {
            "text/plain": [
              "(10000, 40000)"
            ]
          },
          "metadata": {},
          "execution_count": 102
        }
      ]
    },
    {
      "cell_type": "markdown",
      "source": [
        "Los inputs a la red serán lotes de 64 imágenes del dataset para ajuste ds_fit.\\\n",
        "Utilizamos .cache() para guardar en caché las transformaciones realizadas con .map(), usamos .shuffle() y .batch() para mezclar los elementos antes de formar los lotes, consiguiendo así lotes únicos para cada época. Finalmente con .prefetch() especificamos que el siguientes lotes se carguen de manera paralela mientras se entrena una época."
      ],
      "metadata": {
        "id": "0yWdMWIxIy6K"
      }
    },
    {
      "cell_type": "code",
      "source": [
        "batch_size = 128 # multiplo de 32\n",
        "ds_fit = base_ds_fit.cache()\n",
        "ds_fit = ds_fit.shuffle(buffer_size=len(ds_fit))\n",
        "ds_fit = ds_fit.batch(batch_size)\n",
        "ds_fit = ds_fit.prefetch(tf.data.experimental.AUTOTUNE)"
      ],
      "metadata": {
        "id": "YEnMtPuzEGFJ"
      },
      "execution_count": 103,
      "outputs": []
    },
    {
      "cell_type": "markdown",
      "source": [
        "Para el dataset de validación ds_val, no mezclamos ya que no influye en los ajustes de pesos. Aunque si que tendrá influencia el detener las épocas en función de los datos de validación."
      ],
      "metadata": {
        "id": "KuYhibuAJwvT"
      }
    },
    {
      "cell_type": "code",
      "source": [
        "batch_size = 128\n",
        "ds_val = base_ds_val.cache()\n",
        "ds_val = ds_val.batch(batch_size)\n",
        "ds_val = ds_val.prefetch(tf.data.experimental.AUTOTUNE)"
      ],
      "metadata": {
        "id": "jNJFaDpWJsGh"
      },
      "execution_count": 104,
      "outputs": []
    },
    {
      "cell_type": "markdown",
      "source": [
        "Preparamos el learning rate adaptativo a usar en el callback"
      ],
      "metadata": {
        "id": "ZKHc8FyPssbB"
      }
    },
    {
      "cell_type": "code",
      "source": [
        "from tensorflow.keras.callbacks import LearningRateScheduler, EarlyStopping, ReduceLROnPlateau\n",
        "\n",
        "# Define a function to adjust the learning rate\n",
        "def lr_schedule(epoch):\n",
        "    if epoch < 15:\n",
        "        return 0.01  # First 5 epochs\n",
        "    elif epoch < 30:\n",
        "        return 0.001  # Next 5 epochs\n",
        "    elif epoch < 45:\n",
        "        return 0.0005\n",
        "    else:\n",
        "        return 0.0001  # Rest of the epochs\n",
        "\n",
        "# Create the LearningRateScheduler callback\n",
        "lr_scheduler = LearningRateScheduler(lr_schedule)\n",
        "# Reduce learning rate\n",
        "reduce_lr = ReduceLROnPlateau(monitor='val_loss', factor=0.2, patience=3, min_lr=0.0001)\n",
        "\n",
        "# Crear el EarlyStopping callback con la función on_train_end\n",
        "early_stopping = EarlyStopping(monitor='val_loss', mode='min', verbose=1, patience=10, restore_best_weights=True)\n",
        "\n",
        "\n",
        "# Define your callbacks\n",
        "callbacks = [early_stopping, lr_scheduler, reduce_lr]"
      ],
      "metadata": {
        "id": "W07pk5CZswyV"
      },
      "execution_count": 105,
      "outputs": []
    },
    {
      "cell_type": "markdown",
      "source": [
        "Añadimos un random flip y rotación a las imágenes (data augmentation)"
      ],
      "metadata": {
        "id": "9qpgC8c9JSNL"
      }
    },
    {
      "cell_type": "code",
      "source": [
        "\"\"\"import matplotlib.pyplot as plt\n",
        "import numpy as np\n",
        "import tensorflow as tf\n",
        "import tensorflow_datasets as tfds\n",
        "\n",
        "from tensorflow.keras import layers\n",
        "\n",
        "# Define the data augmentation layer\n",
        "data_augmentation = tf.keras.Sequential([\n",
        "    layers.RandomFlip(\"horizontal_and_vertical\"),\n",
        "    layers.RandomRotation(0.2),\n",
        "])\"\"\"\n",
        "\n"
      ],
      "metadata": {
        "id": "lV1uIMl2JXKh",
        "colab": {
          "base_uri": "https://localhost:8080/",
          "height": 54
        },
        "outputId": "de7c1c46-5d1e-4e87-f81e-73c12f377e0c"
      },
      "execution_count": 106,
      "outputs": [
        {
          "output_type": "execute_result",
          "data": {
            "text/plain": [
              "'import matplotlib.pyplot as plt\\nimport numpy as np\\nimport tensorflow as tf\\nimport tensorflow_datasets as tfds\\n\\nfrom tensorflow.keras import layers\\n\\n# Define the data augmentation layer\\ndata_augmentation = tf.keras.Sequential([\\n    layers.RandomFlip(\"horizontal_and_vertical\"),\\n    layers.RandomRotation(0.2),\\n])'"
            ],
            "application/vnd.google.colaboratory.intrinsic+json": {
              "type": "string"
            }
          },
          "metadata": {},
          "execution_count": 106
        }
      ]
    },
    {
      "cell_type": "markdown",
      "source": [
        "Como queremos obtener los mismos resultados para cualquier usuario que ejecute el programa, usamos una seed para inicializar los pesos posteriormente."
      ],
      "metadata": {
        "id": "3NT9Sh3MssB8"
      }
    },
    {
      "cell_type": "code",
      "source": [
        "# Establecer la semilla global\n",
        "seed_value = 42\n",
        "tf.random.set_seed(seed_value)"
      ],
      "metadata": {
        "id": "5-BHhgORsscj"
      },
      "execution_count": 107,
      "outputs": []
    },
    {
      "cell_type": "markdown",
      "source": [
        "Arquitectura de la red"
      ],
      "metadata": {
        "id": "n-_9Hinb2z9u"
      }
    },
    {
      "cell_type": "code",
      "source": [],
      "metadata": {
        "id": "s_0F7IcAJP-I"
      },
      "execution_count": 107,
      "outputs": []
    },
    {
      "cell_type": "code",
      "source": [
        "from tensorflow.keras.models import Sequential\n",
        "from tensorflow.keras.layers import Conv2D, MaxPooling2D, Flatten, Dense, BatchNormalization, Dropout, ZeroPadding2D\n",
        "from tensorflow.keras import regularizers\n",
        "from tensorflow.keras.layers.experimental import preprocessing\n",
        "# Specify the regularization strength\n",
        "l2_reg_strength = 0.01\n",
        "\n",
        "# Build the model\n",
        "model = Sequential([\n",
        "\n",
        "    preprocessing.RandomFlip(\"horizontal\",input_shape=(32, 32, 3)),\n",
        "    preprocessing.RandomBrightness(factor=0.2),\n",
        "    preprocessing.RandomZoom(.5, .2),\n",
        "    # Añadir una capa de ZeroPadding2D antes de la primera capa convolucional\n",
        "    ZeroPadding2D(padding=(2, 2)),\n",
        "    Conv2D(32, (3, 3), activation='relu', kernel_regularizer=regularizers.l2(l2_reg_strength)),\n",
        "    BatchNormalization(),\n",
        "\n",
        "    Conv2D(64, (3, 3), activation='relu', kernel_regularizer=regularizers.l2(l2_reg_strength)),\n",
        "    MaxPooling2D((2, 2)),\n",
        "    Dropout(0.25),\n",
        "\n",
        "    Conv2D(128, (3, 3), activation='relu', kernel_regularizer=regularizers.l2(l2_reg_strength)),\n",
        "    BatchNormalization(),\n",
        "\n",
        "    Conv2D(128, (3, 3), activation='relu', kernel_regularizer=regularizers.l2(l2_reg_strength)),\n",
        "    MaxPooling2D((2, 2)),\n",
        "    Dropout(0.25),\n",
        "\n",
        "    Flatten(),\n",
        "    Dense(512, activation='relu', kernel_regularizer=regularizers.l2(l2_reg_strength)),\n",
        "    BatchNormalization(),\n",
        "    Dropout(0.5),\n",
        "    Dense(num_super_classes, activation='softmax')\n",
        "])\n",
        "\n",
        "\n",
        "\n",
        "\n",
        "# Hacemos una copia del modelo, con los mismos pesos y la misma arquitectura\n",
        "model_test = tf.keras.models.clone_model(model)\n",
        "\n",
        "\n",
        "# Compilar el modelo\n",
        "model.compile(optimizer='adam',\n",
        "              loss='categorical_crossentropy',\n",
        "              metrics=['accuracy'])\n",
        "\n",
        "# Entrenar el modelo utilizando el conjunto de datos\n",
        "history = model.fit(ds_fit, epochs=60, validation_data=ds_val, callbacks=callbacks)\n",
        "\n",
        "last_epoch = len(history.history['val_loss'])"
      ],
      "metadata": {
        "colab": {
          "base_uri": "https://localhost:8080/"
        },
        "id": "IqSermaUAOuz",
        "outputId": "816e8405-958f-4ebb-a077-3dec9dbe386b"
      },
      "execution_count": 108,
      "outputs": [
        {
          "output_type": "stream",
          "name": "stdout",
          "text": [
            "Epoch 1/60\n",
            "313/313 [==============================] - 18s 36ms/step - loss: 7.0414 - accuracy: 0.2668 - val_loss: 5.0277 - val_accuracy: 0.0898 - lr: 0.0010\n",
            "Epoch 2/60\n",
            "313/313 [==============================] - 9s 30ms/step - loss: 3.2818 - accuracy: 0.3775 - val_loss: 3.7300 - val_accuracy: 0.2257 - lr: 0.0010\n",
            "Epoch 3/60\n",
            "313/313 [==============================] - 9s 28ms/step - loss: 2.7907 - accuracy: 0.4242 - val_loss: 2.9839 - val_accuracy: 0.3399 - lr: 0.0010\n",
            "Epoch 4/60\n",
            "313/313 [==============================] - 9s 29ms/step - loss: 2.6285 - accuracy: 0.4514 - val_loss: 3.0379 - val_accuracy: 0.3509 - lr: 0.0010\n",
            "Epoch 5/60\n",
            "313/313 [==============================] - 9s 29ms/step - loss: 2.5629 - accuracy: 0.4662 - val_loss: 2.7008 - val_accuracy: 0.4254 - lr: 0.0010\n",
            "Epoch 6/60\n",
            "313/313 [==============================] - 9s 28ms/step - loss: 2.5338 - accuracy: 0.4807 - val_loss: 2.8313 - val_accuracy: 0.4021 - lr: 0.0010\n",
            "Epoch 7/60\n",
            "313/313 [==============================] - 9s 29ms/step - loss: 2.5007 - accuracy: 0.4870 - val_loss: 2.8050 - val_accuracy: 0.4142 - lr: 0.0010\n",
            "Epoch 8/60\n",
            "313/313 [==============================] - 9s 29ms/step - loss: 2.4719 - accuracy: 0.4922 - val_loss: 2.5596 - val_accuracy: 0.4629 - lr: 0.0010\n",
            "Epoch 9/60\n",
            "313/313 [==============================] - 9s 28ms/step - loss: 2.4277 - accuracy: 0.4972 - val_loss: 2.5408 - val_accuracy: 0.4573 - lr: 0.0010\n",
            "Epoch 10/60\n",
            "313/313 [==============================] - 9s 29ms/step - loss: 2.4032 - accuracy: 0.5036 - val_loss: 2.6124 - val_accuracy: 0.4334 - lr: 0.0010\n",
            "Epoch 11/60\n",
            "313/313 [==============================] - 9s 29ms/step - loss: 2.3915 - accuracy: 0.5062 - val_loss: 2.6656 - val_accuracy: 0.4473 - lr: 0.0010\n",
            "Epoch 12/60\n",
            "313/313 [==============================] - 9s 28ms/step - loss: 2.3662 - accuracy: 0.5093 - val_loss: 2.5724 - val_accuracy: 0.4627 - lr: 0.0010\n",
            "Epoch 13/60\n",
            "313/313 [==============================] - 9s 29ms/step - loss: 2.3412 - accuracy: 0.5179 - val_loss: 2.5040 - val_accuracy: 0.4871 - lr: 0.0010\n",
            "Epoch 14/60\n",
            "313/313 [==============================] - 9s 29ms/step - loss: 2.3488 - accuracy: 0.5159 - val_loss: 2.5241 - val_accuracy: 0.4674 - lr: 0.0010\n",
            "Epoch 15/60\n",
            "313/313 [==============================] - 9s 28ms/step - loss: 2.3050 - accuracy: 0.5201 - val_loss: 2.5395 - val_accuracy: 0.4582 - lr: 0.0010\n",
            "Epoch 16/60\n",
            "313/313 [==============================] - 9s 29ms/step - loss: 2.2920 - accuracy: 0.5189 - val_loss: 2.3449 - val_accuracy: 0.4980 - lr: 0.0010\n",
            "Epoch 17/60\n",
            "313/313 [==============================] - 9s 29ms/step - loss: 2.2750 - accuracy: 0.5215 - val_loss: 2.6181 - val_accuracy: 0.4175 - lr: 0.0010\n",
            "Epoch 18/60\n",
            "313/313 [==============================] - 9s 28ms/step - loss: 2.2827 - accuracy: 0.5208 - val_loss: 2.3731 - val_accuracy: 0.4909 - lr: 0.0010\n",
            "Epoch 19/60\n",
            "313/313 [==============================] - 9s 29ms/step - loss: 2.2687 - accuracy: 0.5255 - val_loss: 2.2375 - val_accuracy: 0.5292 - lr: 0.0010\n",
            "Epoch 20/60\n",
            "313/313 [==============================] - 9s 29ms/step - loss: 2.2493 - accuracy: 0.5293 - val_loss: 2.4210 - val_accuracy: 0.4914 - lr: 0.0010\n",
            "Epoch 21/60\n",
            "313/313 [==============================] - 9s 28ms/step - loss: 1.9727 - accuracy: 0.5720 - val_loss: 1.9268 - val_accuracy: 0.5650 - lr: 5.0000e-04\n",
            "Epoch 22/60\n",
            "313/313 [==============================] - 9s 29ms/step - loss: 1.8880 - accuracy: 0.5782 - val_loss: 1.9335 - val_accuracy: 0.5705 - lr: 5.0000e-04\n",
            "Epoch 23/60\n",
            "313/313 [==============================] - 9s 29ms/step - loss: 1.8762 - accuracy: 0.5818 - val_loss: 2.0232 - val_accuracy: 0.5355 - lr: 5.0000e-04\n",
            "Epoch 24/60\n",
            "313/313 [==============================] - 9s 29ms/step - loss: 1.8606 - accuracy: 0.5845 - val_loss: 1.9455 - val_accuracy: 0.5568 - lr: 5.0000e-04\n",
            "Epoch 25/60\n",
            "313/313 [==============================] - 9s 29ms/step - loss: 1.8459 - accuracy: 0.5893 - val_loss: 2.0906 - val_accuracy: 0.5234 - lr: 5.0000e-04\n",
            "Epoch 26/60\n",
            "313/313 [==============================] - 9s 29ms/step - loss: 1.8297 - accuracy: 0.5932 - val_loss: 1.9431 - val_accuracy: 0.5628 - lr: 5.0000e-04\n",
            "Epoch 27/60\n",
            "313/313 [==============================] - 9s 28ms/step - loss: 1.8298 - accuracy: 0.5928 - val_loss: 2.0603 - val_accuracy: 0.5191 - lr: 5.0000e-04\n",
            "Epoch 28/60\n",
            "313/313 [==============================] - 9s 29ms/step - loss: 1.8235 - accuracy: 0.5944 - val_loss: 1.9124 - val_accuracy: 0.5739 - lr: 5.0000e-04\n",
            "Epoch 29/60\n",
            "313/313 [==============================] - 9s 30ms/step - loss: 1.8096 - accuracy: 0.6021 - val_loss: 1.9998 - val_accuracy: 0.5573 - lr: 5.0000e-04\n",
            "Epoch 30/60\n",
            "313/313 [==============================] - 9s 29ms/step - loss: 1.7966 - accuracy: 0.6045 - val_loss: 1.8536 - val_accuracy: 0.5842 - lr: 5.0000e-04\n",
            "Epoch 31/60\n",
            "313/313 [==============================] - 9s 30ms/step - loss: 1.8062 - accuracy: 0.5986 - val_loss: 1.9985 - val_accuracy: 0.5527 - lr: 5.0000e-04\n",
            "Epoch 32/60\n",
            "313/313 [==============================] - 9s 30ms/step - loss: 1.8012 - accuracy: 0.6026 - val_loss: 1.9945 - val_accuracy: 0.5546 - lr: 5.0000e-04\n",
            "Epoch 33/60\n",
            "313/313 [==============================] - 9s 29ms/step - loss: 1.8009 - accuracy: 0.6038 - val_loss: 1.9040 - val_accuracy: 0.5780 - lr: 5.0000e-04\n",
            "Epoch 34/60\n",
            "313/313 [==============================] - 9s 29ms/step - loss: 1.7883 - accuracy: 0.6078 - val_loss: 1.9227 - val_accuracy: 0.5763 - lr: 5.0000e-04\n",
            "Epoch 35/60\n",
            "313/313 [==============================] - 9s 30ms/step - loss: 1.7871 - accuracy: 0.6060 - val_loss: 1.9035 - val_accuracy: 0.5767 - lr: 5.0000e-04\n",
            "Epoch 36/60\n",
            "313/313 [==============================] - 9s 29ms/step - loss: 1.7775 - accuracy: 0.6119 - val_loss: 1.9698 - val_accuracy: 0.5568 - lr: 5.0000e-04\n",
            "Epoch 37/60\n",
            "313/313 [==============================] - 12s 37ms/step - loss: 1.7833 - accuracy: 0.6120 - val_loss: 1.9734 - val_accuracy: 0.5578 - lr: 5.0000e-04\n",
            "Epoch 38/60\n",
            "313/313 [==============================] - 11s 34ms/step - loss: 1.7874 - accuracy: 0.6112 - val_loss: 1.8812 - val_accuracy: 0.5830 - lr: 5.0000e-04\n",
            "Epoch 39/60\n",
            "313/313 [==============================] - 9s 30ms/step - loss: 1.7815 - accuracy: 0.6126 - val_loss: 1.8706 - val_accuracy: 0.5924 - lr: 5.0000e-04\n",
            "Epoch 40/60\n",
            "312/313 [============================>.] - ETA: 0s - loss: 1.7811 - accuracy: 0.6121Restoring model weights from the end of the best epoch: 30.\n",
            "313/313 [==============================] - 9s 30ms/step - loss: 1.7812 - accuracy: 0.6121 - val_loss: 2.1408 - val_accuracy: 0.5298 - lr: 5.0000e-04\n",
            "Epoch 40: early stopping\n"
          ]
        }
      ]
    },
    {
      "cell_type": "markdown",
      "source": [
        "Hemos comprobado que a partir de la época 11 se sobreentrena, ahora usaremos todos los datos de entrenamiento para el modelo real, sabiendo que a partir de l esa época se sobreentrena."
      ],
      "metadata": {
        "id": "3HpTWly73XS0"
      }
    },
    {
      "cell_type": "code",
      "source": [
        "batch_size = 128\n",
        "ds_fit = ds_train.cache()\n",
        "ds_fit = ds_fit.shuffle(buffer_size=len(ds_fit))\n",
        "ds_fit = ds_fit.batch(batch_size)\n",
        "ds_fit = ds_fit.prefetch(tf.data.experimental.AUTOTUNE)\n",
        "print(last_epoch)"
      ],
      "metadata": {
        "id": "ED0TFC2c254-",
        "colab": {
          "base_uri": "https://localhost:8080/"
        },
        "outputId": "70350e87-c774-4b55-f4cf-0c5410669af8"
      },
      "execution_count": 109,
      "outputs": [
        {
          "output_type": "stream",
          "name": "stdout",
          "text": [
            "40\n"
          ]
        }
      ]
    },
    {
      "cell_type": "code",
      "source": [
        "# Compilar el modelo\n",
        "model_test.compile(optimizer='adam',\n",
        "              loss='categorical_crossentropy',\n",
        "              metrics=['accuracy'])\n",
        "# Entrenar el modelo utilizando el conjunto de datos\n",
        "model_test.fit(ds_fit, epochs=52,callbacks=callbacks[1]) # solo usamos el callback de lr adaptativo"
      ],
      "metadata": {
        "id": "_qycQW3xtGmi",
        "colab": {
          "base_uri": "https://localhost:8080/"
        },
        "outputId": "aaa335b8-fd72-422c-fe37-2f7ce30dbb15"
      },
      "execution_count": null,
      "outputs": [
        {
          "output_type": "stream",
          "name": "stdout",
          "text": [
            "Epoch 1/52\n",
            "391/391 [==============================] - 20s 32ms/step - loss: 6.3210 - accuracy: 0.2806 - lr: 0.0010\n",
            "Epoch 2/52\n",
            "391/391 [==============================] - 11s 27ms/step - loss: 3.0448 - accuracy: 0.3880 - lr: 0.0010\n",
            "Epoch 3/52\n",
            "391/391 [==============================] - 10s 27ms/step - loss: 2.6616 - accuracy: 0.4367 - lr: 0.0010\n",
            "Epoch 4/52\n",
            "391/391 [==============================] - 11s 27ms/step - loss: 2.5665 - accuracy: 0.4640 - lr: 0.0010\n",
            "Epoch 5/52\n",
            "391/391 [==============================] - 11s 27ms/step - loss: 2.5226 - accuracy: 0.4777 - lr: 0.0010\n",
            "Epoch 6/52\n",
            "391/391 [==============================] - 11s 27ms/step - loss: 2.4884 - accuracy: 0.4892 - lr: 0.0010\n",
            "Epoch 7/52\n",
            "391/391 [==============================] - 12s 30ms/step - loss: 2.4416 - accuracy: 0.4966 - lr: 0.0010\n",
            "Epoch 8/52\n",
            "391/391 [==============================] - 14s 35ms/step - loss: 2.4052 - accuracy: 0.5018 - lr: 0.0010\n",
            "Epoch 9/52\n",
            "391/391 [==============================] - 12s 31ms/step - loss: 2.3711 - accuracy: 0.5067 - lr: 0.0010\n",
            "Epoch 10/52\n",
            "391/391 [==============================] - 13s 33ms/step - loss: 2.3636 - accuracy: 0.5089 - lr: 0.0010\n",
            "Epoch 11/52\n",
            "391/391 [==============================] - 11s 27ms/step - loss: 2.3187 - accuracy: 0.5148 - lr: 0.0010\n",
            "Epoch 12/52\n",
            "391/391 [==============================] - 11s 28ms/step - loss: 2.3048 - accuracy: 0.5177 - lr: 0.0010\n",
            "Epoch 13/52\n",
            "391/391 [==============================] - 13s 32ms/step - loss: 2.2907 - accuracy: 0.5199 - lr: 0.0010\n",
            "Epoch 14/52\n",
            "391/391 [==============================] - 12s 31ms/step - loss: 2.2713 - accuracy: 0.5245 - lr: 0.0010\n",
            "Epoch 15/52\n",
            "391/391 [==============================] - 11s 28ms/step - loss: 2.2752 - accuracy: 0.5197 - lr: 0.0010\n",
            "Epoch 16/52\n",
            "391/391 [==============================] - 11s 28ms/step - loss: 2.2507 - accuracy: 0.5226 - lr: 0.0010\n",
            "Epoch 17/52\n",
            "391/391 [==============================] - 11s 29ms/step - loss: 2.2366 - accuracy: 0.5264 - lr: 0.0010\n",
            "Epoch 18/52\n",
            "391/391 [==============================] - 11s 27ms/step - loss: 2.2378 - accuracy: 0.5266 - lr: 0.0010\n",
            "Epoch 19/52\n",
            "  3/391 [..............................] - ETA: 13s - loss: 2.1205 - accuracy: 0.5755"
          ]
        }
      ]
    },
    {
      "cell_type": "code",
      "source": [
        "batch_size = 128\n",
        "ds_eval = ds_test.cache()\n",
        "ds_eval = ds_eval.batch(batch_size)\n",
        "ds_eval = ds_eval.prefetch(tf.data.experimental.AUTOTUNE)"
      ],
      "metadata": {
        "id": "d7isfoZD7GwW"
      },
      "execution_count": null,
      "outputs": []
    },
    {
      "cell_type": "code",
      "source": [
        "test_loss, test_acc = model_test.evaluate(ds_eval)\n",
        "\n",
        "print('Test accuracy:', test_acc)"
      ],
      "metadata": {
        "id": "BPFasQO460Uj"
      },
      "execution_count": null,
      "outputs": []
    }
  ],
  "metadata": {
    "kernelspec": {
      "display_name": "Python 3",
      "name": "python3"
    },
    "language_info": {
      "codemirror_mode": {
        "name": "ipython",
        "version": 3
      },
      "file_extension": ".py",
      "mimetype": "text/x-python",
      "name": "python",
      "nbconvert_exporter": "python",
      "pygments_lexer": "ipython3",
      "version": "3.11.4"
    },
    "colab": {
      "provenance": [],
      "gpuType": "T4"
    },
    "accelerator": "GPU"
  },
  "nbformat": 4,
  "nbformat_minor": 0
}